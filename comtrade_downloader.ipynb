{
 "cells": [
  {
   "cell_type": "markdown",
   "id": "8fd62a73",
   "metadata": {},
   "source": [
    "\n",
    "# UN Comtrade – Téléchargement CSV (1 fichier par pays, toutes années)\n",
    "\n",
    "Ce notebook utilise l'**API officielle** de UN Comtrade (dataset HS) pour récupérer les données en **CSV** :  \n",
    "- 1 CSV **par pays (reporter)**  \n",
    "- **Toutes les années** disponibles (ps=all)  \n",
    "- **Tous flux** (rg=all : import/export/re-export)  \n",
    "- **Partenaire = Monde** (p=0) par défaut, configurable\n",
    "\n",
    "> Avantage : plus robuste et plus rapide que le scraping Selenium de l'UI.\n"
   ]
  },
  {
   "cell_type": "markdown",
   "id": "cf2e7d17",
   "metadata": {},
   "source": [
    "## 1) Dépendances"
   ]
  },
  {
   "cell_type": "code",
   "execution_count": 1,
   "id": "0c179629",
   "metadata": {},
   "outputs": [
    {
     "name": "stdout",
     "output_type": "stream",
     "text": [
      "Versions :\n",
      "  Python : 3.12.1\n",
      "  requests : 2.32.3\n"
     ]
    }
   ],
   "source": [
    "\n",
    "# Si 'requests' n'est pas installé, décommente la ligne suivante :\n",
    "# import sys, subprocess; subprocess.check_call([sys.executable, \"-m\", \"pip\", \"install\", \"requests\"])\n",
    "\n",
    "import os\n",
    "import time\n",
    "import sys\n",
    "from typing import List, Tuple\n",
    "import requests\n",
    "\n",
    "print(\"Versions :\")\n",
    "print(\"  Python :\", sys.version.split()[0])\n",
    "print(\"  requests :\", requests.__version__)\n"
   ]
  },
  {
   "cell_type": "markdown",
   "id": "7d33c28d",
   "metadata": {},
   "source": [
    "## 2) Configuration"
   ]
  },
  {
   "cell_type": "code",
   "execution_count": 2,
   "id": "ba745154",
   "metadata": {},
   "outputs": [
    {
     "name": "stdout",
     "output_type": "stream",
     "text": [
      "HS=85 | PARTNER=0 | out=data_comtrade | sleep=1.2 | max_countries=None\n"
     ]
    }
   ],
   "source": [
    "\n",
    "# === Paramètres principaux ===\n",
    "HS_CODE = \"85\"            # Code HS (ex: \"85\", \"840\", \"TOTAL\")\n",
    "OUT_DIR = \"data_comtrade\"  # Dossier de sortie (sera créé s'il n'existe pas)\n",
    "SLEEP_SEC = 1.2            # Pause entre appels API (respect du rate limit)\n",
    "MAX_COUNTRIES = None       # Pour tests : limiter le nombre de pays (ex: 10) ; None = tous\n",
    "PARTNER = \"0\"              # \"0\" = Monde ; \"all\" = tous partenaires (attention fichiers très volumineux)\n",
    "\n",
    "# === Vérification rapide ===\n",
    "print(f\"HS={HS_CODE} | PARTNER={PARTNER} | out={OUT_DIR} | sleep={SLEEP_SEC} | max_countries={MAX_COUNTRIES}\")\n"
   ]
  },
  {
   "cell_type": "markdown",
   "id": "f3b16e24",
   "metadata": {},
   "source": [
    "## 3) Fonctions utilitaires"
   ]
  },
  {
   "cell_type": "code",
   "execution_count": 3,
   "id": "67ca3543",
   "metadata": {},
   "outputs": [],
   "source": [
    "\n",
    "REPORTERS_URL = \"https://comtrade.un.org/Data/cache/reporterAreas.json\"\n",
    "COMTRADE_GET_URL = (\n",
    "    \"https://comtrade.un.org/api/get\"\n",
    "    \"?type=C&freq=A&px=HS&ps=all&rg=all&p={partner}&r={reporter}&cc={cc}&fmt=csv\"\n",
    ")\n",
    "\n",
    "def get_reporters() -> List[Tuple[int, str]]:\n",
    "    \"\"\"Retourne la liste (id, nom) des reporters (pays) disponibles.\"\"\"\n",
    "    resp = requests.get(REPORTERS_URL, timeout=60)\n",
    "    resp.raise_for_status()\n",
    "    data = resp.json()\n",
    "    items = data.get(\"results\", [])\n",
    "    reporters = []\n",
    "    for it in items:\n",
    "        try:\n",
    "            _id = int(it[\"id\"])\n",
    "        except (KeyError, ValueError):\n",
    "            continue\n",
    "        name = it.get(\"text\", \"\").strip()\n",
    "        if _id > 0 and name and \"all\" not in name.lower():\n",
    "            reporters.append((_id, name))\n",
    "    reporters.sort(key=lambda x: x[1])\n",
    "    return reporters\n",
    "\n",
    "def sanitize_filename(s: str) -> str:\n",
    "    bad = '<>:\"/\\\\|?*'\n",
    "    for ch in bad:\n",
    "        s = s.replace(ch, \"_\")\n",
    "    return \"_\".join(s.split())\n",
    "\n",
    "def ensure_dir(path: str):\n",
    "    os.makedirs(path, exist_ok=True)\n",
    "\n",
    "def save_csv(content: str, path: str) -> None:\n",
    "    ensure_dir(os.path.dirname(path))\n",
    "    with open(path, \"w\", encoding=\"utf-8\", newline=\"\") as f:\n",
    "        f.write(content)\n",
    "\n",
    "def destination_path(out_dir: str, hs_code: str, partner: str, reporter_id: int, reporter_name: str) -> str:\n",
    "    fname = f\"comtrade_HS{hs_code}_p{partner}_{reporter_id}_{sanitize_filename(reporter_name)}.csv\"\n",
    "    return os.path.join(out_dir, fname)\n",
    "\n",
    "def download_country_csv(reporter_id: int, reporter_name: str, hs_code: str, partner: str, out_dir: str) -> bool:\n",
    "    \"\"\"Télécharge le CSV pour un pays (True si fichier écrit).\"\"\"\n",
    "    url = COMTRADE_GET_URL.format(reporter=reporter_id, cc=hs_code, partner=partner)\n",
    "    r = requests.get(url, timeout=120)\n",
    "    if r.status_code == 204 or not r.text.strip():\n",
    "        return False\n",
    "\n",
    "    text = r.text\n",
    "    first_line = text.splitlines()[0] if text else \"\"\n",
    "    if \"Classification\" not in first_line:\n",
    "        if \"No data\" in text or \"Error Message\" in text:\n",
    "            return False\n",
    "\n",
    "    path = destination_path(out_dir, hs_code, partner, reporter_id, reporter_name)\n",
    "    save_csv(text, path)\n",
    "    return True\n"
   ]
  },
  {
   "cell_type": "markdown",
   "id": "f4a47be6",
   "metadata": {},
   "source": [
    "## 4) Lancer le téléchargement"
   ]
  },
  {
   "cell_type": "code",
   "execution_count": 5,
   "id": "33cf97c5",
   "metadata": {},
   "outputs": [
    {
     "ename": "JSONDecodeError",
     "evalue": "Expecting value: line 1 column 1 (char 0)",
     "output_type": "error",
     "traceback": [
      "\u001b[31m---------------------------------------------------------------------------\u001b[39m",
      "\u001b[31mJSONDecodeError\u001b[39m                           Traceback (most recent call last)",
      "\u001b[36mFile \u001b[39m\u001b[32mc:\\Users\\stgadmin\\Documents\\ProjetDataEngineer\\projetfinal\\env_projet\\Lib\\site-packages\\requests\\models.py:974\u001b[39m, in \u001b[36mResponse.json\u001b[39m\u001b[34m(self, **kwargs)\u001b[39m\n\u001b[32m    973\u001b[39m \u001b[38;5;28;01mtry\u001b[39;00m:\n\u001b[32m--> \u001b[39m\u001b[32m974\u001b[39m     \u001b[38;5;28;01mreturn\u001b[39;00m \u001b[43mcomplexjson\u001b[49m\u001b[43m.\u001b[49m\u001b[43mloads\u001b[49m\u001b[43m(\u001b[49m\u001b[38;5;28;43mself\u001b[39;49m\u001b[43m.\u001b[49m\u001b[43mtext\u001b[49m\u001b[43m,\u001b[49m\u001b[43m \u001b[49m\u001b[43m*\u001b[49m\u001b[43m*\u001b[49m\u001b[43mkwargs\u001b[49m\u001b[43m)\u001b[49m\n\u001b[32m    975\u001b[39m \u001b[38;5;28;01mexcept\u001b[39;00m JSONDecodeError \u001b[38;5;28;01mas\u001b[39;00m e:\n\u001b[32m    976\u001b[39m     \u001b[38;5;66;03m# Catch JSON-related errors and raise as requests.JSONDecodeError\u001b[39;00m\n\u001b[32m    977\u001b[39m     \u001b[38;5;66;03m# This aliases json.JSONDecodeError and simplejson.JSONDecodeError\u001b[39;00m\n",
      "\u001b[36mFile \u001b[39m\u001b[32m~\\AppData\\Roaming\\uv\\python\\cpython-3.12.1-windows-x86_64-none\\Lib\\json\\__init__.py:346\u001b[39m, in \u001b[36mloads\u001b[39m\u001b[34m(s, cls, object_hook, parse_float, parse_int, parse_constant, object_pairs_hook, **kw)\u001b[39m\n\u001b[32m    343\u001b[39m \u001b[38;5;28;01mif\u001b[39;00m (\u001b[38;5;28mcls\u001b[39m \u001b[38;5;129;01mis\u001b[39;00m \u001b[38;5;28;01mNone\u001b[39;00m \u001b[38;5;129;01mand\u001b[39;00m object_hook \u001b[38;5;129;01mis\u001b[39;00m \u001b[38;5;28;01mNone\u001b[39;00m \u001b[38;5;129;01mand\u001b[39;00m\n\u001b[32m    344\u001b[39m         parse_int \u001b[38;5;129;01mis\u001b[39;00m \u001b[38;5;28;01mNone\u001b[39;00m \u001b[38;5;129;01mand\u001b[39;00m parse_float \u001b[38;5;129;01mis\u001b[39;00m \u001b[38;5;28;01mNone\u001b[39;00m \u001b[38;5;129;01mand\u001b[39;00m\n\u001b[32m    345\u001b[39m         parse_constant \u001b[38;5;129;01mis\u001b[39;00m \u001b[38;5;28;01mNone\u001b[39;00m \u001b[38;5;129;01mand\u001b[39;00m object_pairs_hook \u001b[38;5;129;01mis\u001b[39;00m \u001b[38;5;28;01mNone\u001b[39;00m \u001b[38;5;129;01mand\u001b[39;00m \u001b[38;5;129;01mnot\u001b[39;00m kw):\n\u001b[32m--> \u001b[39m\u001b[32m346\u001b[39m     \u001b[38;5;28;01mreturn\u001b[39;00m \u001b[43m_default_decoder\u001b[49m\u001b[43m.\u001b[49m\u001b[43mdecode\u001b[49m\u001b[43m(\u001b[49m\u001b[43ms\u001b[49m\u001b[43m)\u001b[49m\n\u001b[32m    347\u001b[39m \u001b[38;5;28;01mif\u001b[39;00m \u001b[38;5;28mcls\u001b[39m \u001b[38;5;129;01mis\u001b[39;00m \u001b[38;5;28;01mNone\u001b[39;00m:\n",
      "\u001b[36mFile \u001b[39m\u001b[32m~\\AppData\\Roaming\\uv\\python\\cpython-3.12.1-windows-x86_64-none\\Lib\\json\\decoder.py:337\u001b[39m, in \u001b[36mJSONDecoder.decode\u001b[39m\u001b[34m(self, s, _w)\u001b[39m\n\u001b[32m    333\u001b[39m \u001b[38;5;250m\u001b[39m\u001b[33;03m\"\"\"Return the Python representation of ``s`` (a ``str`` instance\u001b[39;00m\n\u001b[32m    334\u001b[39m \u001b[33;03mcontaining a JSON document).\u001b[39;00m\n\u001b[32m    335\u001b[39m \n\u001b[32m    336\u001b[39m \u001b[33;03m\"\"\"\u001b[39;00m\n\u001b[32m--> \u001b[39m\u001b[32m337\u001b[39m obj, end = \u001b[38;5;28;43mself\u001b[39;49m\u001b[43m.\u001b[49m\u001b[43mraw_decode\u001b[49m\u001b[43m(\u001b[49m\u001b[43ms\u001b[49m\u001b[43m,\u001b[49m\u001b[43m \u001b[49m\u001b[43midx\u001b[49m\u001b[43m=\u001b[49m\u001b[43m_w\u001b[49m\u001b[43m(\u001b[49m\u001b[43ms\u001b[49m\u001b[43m,\u001b[49m\u001b[43m \u001b[49m\u001b[32;43m0\u001b[39;49m\u001b[43m)\u001b[49m\u001b[43m.\u001b[49m\u001b[43mend\u001b[49m\u001b[43m(\u001b[49m\u001b[43m)\u001b[49m\u001b[43m)\u001b[49m\n\u001b[32m    338\u001b[39m end = _w(s, end).end()\n",
      "\u001b[36mFile \u001b[39m\u001b[32m~\\AppData\\Roaming\\uv\\python\\cpython-3.12.1-windows-x86_64-none\\Lib\\json\\decoder.py:355\u001b[39m, in \u001b[36mJSONDecoder.raw_decode\u001b[39m\u001b[34m(self, s, idx)\u001b[39m\n\u001b[32m    354\u001b[39m \u001b[38;5;28;01mexcept\u001b[39;00m \u001b[38;5;167;01mStopIteration\u001b[39;00m \u001b[38;5;28;01mas\u001b[39;00m err:\n\u001b[32m--> \u001b[39m\u001b[32m355\u001b[39m     \u001b[38;5;28;01mraise\u001b[39;00m JSONDecodeError(\u001b[33m\"\u001b[39m\u001b[33mExpecting value\u001b[39m\u001b[33m\"\u001b[39m, s, err.value) \u001b[38;5;28;01mfrom\u001b[39;00m\u001b[38;5;250m \u001b[39m\u001b[38;5;28;01mNone\u001b[39;00m\n\u001b[32m    356\u001b[39m \u001b[38;5;28;01mreturn\u001b[39;00m obj, end\n",
      "\u001b[31mJSONDecodeError\u001b[39m: Expecting value: line 1 column 1 (char 0)",
      "\nDuring handling of the above exception, another exception occurred:\n",
      "\u001b[31mJSONDecodeError\u001b[39m                           Traceback (most recent call last)",
      "\u001b[36mCell\u001b[39m\u001b[36m \u001b[39m\u001b[32mIn[5]\u001b[39m\u001b[32m, line 1\u001b[39m\n\u001b[32m----> \u001b[39m\u001b[32m1\u001b[39m reporters = \u001b[43mget_reporters\u001b[49m\u001b[43m(\u001b[49m\u001b[43m)\u001b[49m\n\u001b[32m      2\u001b[39m \u001b[38;5;28;01mif\u001b[39;00m MAX_COUNTRIES:\n\u001b[32m      3\u001b[39m     reporters = reporters[:MAX_COUNTRIES]\n",
      "\u001b[36mCell\u001b[39m\u001b[36m \u001b[39m\u001b[32mIn[3]\u001b[39m\u001b[32m, line 11\u001b[39m, in \u001b[36mget_reporters\u001b[39m\u001b[34m()\u001b[39m\n\u001b[32m      9\u001b[39m resp = requests.get(REPORTERS_URL, timeout=\u001b[32m60\u001b[39m)\n\u001b[32m     10\u001b[39m resp.raise_for_status()\n\u001b[32m---> \u001b[39m\u001b[32m11\u001b[39m data = \u001b[43mresp\u001b[49m\u001b[43m.\u001b[49m\u001b[43mjson\u001b[49m\u001b[43m(\u001b[49m\u001b[43m)\u001b[49m\n\u001b[32m     12\u001b[39m items = data.get(\u001b[33m\"\u001b[39m\u001b[33mresults\u001b[39m\u001b[33m\"\u001b[39m, [])\n\u001b[32m     13\u001b[39m reporters = []\n",
      "\u001b[36mFile \u001b[39m\u001b[32mc:\\Users\\stgadmin\\Documents\\ProjetDataEngineer\\projetfinal\\env_projet\\Lib\\site-packages\\requests\\models.py:978\u001b[39m, in \u001b[36mResponse.json\u001b[39m\u001b[34m(self, **kwargs)\u001b[39m\n\u001b[32m    974\u001b[39m     \u001b[38;5;28;01mreturn\u001b[39;00m complexjson.loads(\u001b[38;5;28mself\u001b[39m.text, **kwargs)\n\u001b[32m    975\u001b[39m \u001b[38;5;28;01mexcept\u001b[39;00m JSONDecodeError \u001b[38;5;28;01mas\u001b[39;00m e:\n\u001b[32m    976\u001b[39m     \u001b[38;5;66;03m# Catch JSON-related errors and raise as requests.JSONDecodeError\u001b[39;00m\n\u001b[32m    977\u001b[39m     \u001b[38;5;66;03m# This aliases json.JSONDecodeError and simplejson.JSONDecodeError\u001b[39;00m\n\u001b[32m--> \u001b[39m\u001b[32m978\u001b[39m     \u001b[38;5;28;01mraise\u001b[39;00m RequestsJSONDecodeError(e.msg, e.doc, e.pos)\n",
      "\u001b[31mJSONDecodeError\u001b[39m: Expecting value: line 1 column 1 (char 0)"
     ]
    }
   ],
   "source": [
    "reporters = get_reporters()\n",
    "if MAX_COUNTRIES:\n",
    "    reporters = reporters[:MAX_COUNTRIES]\n",
    "\n",
    "print(f\"{len(reporters)} pays à traiter.\")\n",
    "ok = ko = 0\n",
    "\n",
    "for idx, (rid, rname) in enumerate(reporters, start=1):\n",
    "    # Sauter si déjà téléchargé (reprise sur incident)\n",
    "    out_path = destination_path(OUT_DIR, HS_CODE, PARTNER, rid, rname)\n",
    "    if os.path.exists(out_path) and os.path.getsize(out_path) > 0:\n",
    "        ok += 1\n",
    "        print(f\"[{idx}/{len(reporters)}] ✓ (existant) {rname}\")\n",
    "        continue\n",
    "\n",
    "    try:\n",
    "        wrote = download_country_csv(rid, rname, HS_CODE, PARTNER, OUT_DIR)\n",
    "        if wrote:\n",
    "            ok += 1\n",
    "            print(f\"[{idx}/{len(reporters)}] ✓ {rname}\")\n",
    "        else:\n",
    "            ko += 1\n",
    "            print(f\"[{idx}/{len(reporters)}] – {rname} (pas de données)\")\n",
    "    except requests.HTTPError as e:\n",
    "        ko += 1\n",
    "        code = getattr(e.response, \"status_code\", \"?\")\n",
    "        print(f\"[{idx}/{len(reporters)}] ✗ {rname} (HTTP {code})\")\n",
    "    except Exception as e:\n",
    "        ko += 1\n",
    "        print(f\"[{idx}/{len(reporters)}] ✗ {rname} (erreur: {e})\")\n",
    "    time.sleep(SLEEP_SEC)\n",
    "\n",
    "print(f\"Terminé. Fichiers OK: {ok} | Sans données/erreurs: {ko}\\nDossier: {OUT_DIR}\")\n"
   ]
  },
  {
   "cell_type": "markdown",
   "id": "40e86431",
   "metadata": {},
   "source": [
    "## 5) Aperçu des fichiers générés"
   ]
  },
  {
   "cell_type": "code",
   "execution_count": null,
   "id": "266aa7c0",
   "metadata": {},
   "outputs": [],
   "source": [
    "\n",
    "from pathlib import Path\n",
    "\n",
    "p = Path(OUT_DIR)\n",
    "if p.exists():\n",
    "    files = sorted(str(x.name) for x in p.glob(\"*.csv\"))\n",
    "    print(f\"{len(files)} fichiers trouvés dans '{OUT_DIR}'.\")\n",
    "    for name in files[:20]:\n",
    "        print(\" -\", name)\n",
    "    if len(files) > 20:\n",
    "        print(\" ...\")\n",
    "else:\n",
    "    print(f\"Le dossier '{OUT_DIR}' n'existe pas encore.\")\n"
   ]
  }
 ],
 "metadata": {
  "kernelspec": {
   "display_name": "env_projet",
   "language": "python",
   "name": "python3"
  },
  "language_info": {
   "codemirror_mode": {
    "name": "ipython",
    "version": 3
   },
   "file_extension": ".py",
   "mimetype": "text/x-python",
   "name": "python",
   "nbconvert_exporter": "python",
   "pygments_lexer": "ipython3",
   "version": "3.12.1"
  }
 },
 "nbformat": 4,
 "nbformat_minor": 5
}
